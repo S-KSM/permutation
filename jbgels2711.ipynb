{
 "cells": [
  {
   "cell_type": "code",
   "execution_count": 22,
   "metadata": {
    "collapsed": false
   },
   "outputs": [],
   "source": [
    "from itertools import combinations\n",
    "from random import shuffle\n",
    "\n",
    "def comb(s):\n",
    "    perms = list(combinations(s, 5)) # create all permutations\n",
    "    \n",
    "    return [\"\".join(p) for p in perms]\n",
    "\n",
    "a = comb('ABCDEFGHIJ')\n",
    "f = open(\"output.txt\",'w')\n",
    "for i in a:\n",
    "    f.write(str(i)+\"\\n\")\n",
    "\n",
    "f.close()"
   ]
  }
 ],
 "metadata": {
  "kernelspec": {
   "display_name": "Python 3",
   "language": "python",
   "name": "python3"
  },
  "language_info": {
   "codemirror_mode": {
    "name": "ipython",
    "version": 3
   },
   "file_extension": ".py",
   "mimetype": "text/x-python",
   "name": "python",
   "nbconvert_exporter": "python",
   "pygments_lexer": "ipython3",
   "version": "3.5.1"
  }
 },
 "nbformat": 4,
 "nbformat_minor": 0
}
